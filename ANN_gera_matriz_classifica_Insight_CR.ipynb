{
  "nbformat": 4,
  "nbformat_minor": 0,
  "metadata": {
    "colab": {
      "name": "ANN_gera_matriz_classifica_Insight_CR.ipynb",
      "provenance": [],
      "collapsed_sections": [],
      "include_colab_link": true
    },
    "kernelspec": {
      "name": "python3",
      "display_name": "Python 3"
    }
  },
  "cells": [
    {
      "cell_type": "markdown",
      "metadata": {
        "id": "view-in-github",
        "colab_type": "text"
      },
      "source": [
        "<a href=\"https://colab.research.google.com/github/ucfilho/optim_raianars_Insight/blob/master/ANN_gera_matriz_classifica_Insight_CR.ipynb\" target=\"_parent\"><img src=\"https://colab.research.google.com/assets/colab-badge.svg\" alt=\"Open In Colab\"/></a>"
      ]
    },
    {
      "cell_type": "code",
      "metadata": {
        "id": "IJMhyBoEZHIU",
        "colab_type": "code",
        "outputId": "f03d3bef-61bd-4eba-d0f0-9dff2be49d8b",
        "colab": {
          "base_uri": "https://localhost:8080/",
          "height": 111
        }
      },
      "source": [
        "import numpy as np\n",
        "import pandas as pd\n",
        "import matplotlib.pyplot as plt\n",
        "from sklearn.metrics import confusion_matrix\n",
        "\n",
        "# este comando clona o diretorio github ucfilho/ANN no colaboratory research\n",
        "!git clone https://github.com/RaianaSeixas/ANN #clonar do Github\n",
        "%cd ANN\n",
        "#!ls\n",
        "print(\"Hello world\"+\"\\n\"+\"I'm evolving!!!\"+\"\\n\")\n",
        "\n",
        "%matplotlib inline"
      ],
      "execution_count": 1,
      "outputs": [
        {
          "output_type": "stream",
          "text": [
            "fatal: destination path 'ANN' already exists and is not an empty directory.\n",
            "/content/ANN\n",
            "Hello world\n",
            "I'm evolving!!!\n",
            "\n"
          ],
          "name": "stdout"
        }
      ]
    },
    {
      "cell_type": "code",
      "metadata": {
        "id": "x09IGM7OYxpw",
        "colab_type": "code",
        "outputId": "61e88162-476c-4df8-bd94-50d8bc47d5fa",
        "colab": {
          "base_uri": "https://localhost:8080/",
          "height": 391
        }
      },
      "source": [
        "!ls"
      ],
      "execution_count": 2,
      "outputs": [
        {
          "output_type": "stream",
          "text": [
            "000_ANN_Gera_Matriz_out_04_2019.ipynb\n",
            "000_ANN_parte_001_XY_dados_out_01_2019.ipynb\n",
            "000_ANN_parte_002_XY_Métricas_D10_OUT_4_2019.ipynb\n",
            "000_ANN_parte_009_Métricas_PCA_OUT_07_2019.ipynb\n",
            "000_Gerenciador_DE_var_F_CR_STAT_set_27_2019.ipynb\n",
            "ANN_2019-10-21_14h30min.csv\n",
            "ANN_nova_003.csv\n",
            "drive\n",
            "imput_ANN_D10_30_out_07_19.zip\n",
            "imput_ANN_D10_6F.zip\n",
            "imput_ANN_D10_out_05_19.zip\n",
            "imput_ANN_schwefel_out_11_19.zip\n",
            "X_DAT_B_set_17_2019.csv\n",
            "X_DAT_set_17_2019.csv\n",
            "XY_D10_30_out_7_2019.csv\n",
            "XY_D10_out_1_2019.csv\n",
            "XY_D10_out_5_2019.csv\n",
            "XY_schwefel_out_11_19.csv\n",
            "Y_DAT_B_set_17_2019.csv\n",
            "Y_DAT_set_17_2019.csv\n"
          ],
          "name": "stdout"
        }
      ]
    },
    {
      "cell_type": "code",
      "metadata": {
        "id": "xPh9-Qc81nMS",
        "colab_type": "code",
        "colab": {}
      },
      "source": [
        "# Functions\n",
        "def sigmoid(x,deriv=False):\n",
        "    if(deriv==True):\n",
        "        return x*(1-x)\n",
        "    return 1/(1+np.exp(-x))\n",
        "\n",
        "def tasig(x,deriv=False):\n",
        "    if(deriv==True):\n",
        "        return 1-x*x\n",
        "    return 2/(1+np.exp(-2*x))-1\n",
        "\n",
        "# purelin function\n",
        "def purelin(x,deriv=False):\n",
        "    if(deriv==True):\n",
        "        return 1\n",
        "    #N=len(x)\n",
        "    #for i in range(N):\n",
        "      #if (x[i]>1):\n",
        "        #x[i]=1\n",
        "    return x"
      ],
      "execution_count": 0,
      "outputs": []
    },
    {
      "cell_type": "code",
      "metadata": {
        "id": "RepD-3pn1E-1",
        "colab_type": "code",
        "colab": {}
      },
      "source": [
        "# funcao normatiza dados\n",
        "def Normatiza(x):\n",
        "    strings=list(x)\n",
        "    for i in strings:\n",
        "        max_x=x[i].max()\n",
        "        min_x=x[i].min()\n",
        "        a=(max_x+min_x)/2\n",
        "        b=(max_x-min_x)/2\n",
        "        x[i]=(x[i]-a)/b\n",
        "    return x"
      ],
      "execution_count": 0,
      "outputs": []
    },
    {
      "cell_type": "code",
      "metadata": {
        "id": "aMUypVwa1RWF",
        "colab_type": "code",
        "colab": {}
      },
      "source": [
        "# funcao retorna os dados a forma original\n",
        "def Original(x,x_old):\n",
        "    strings=list(x)\n",
        "    for i in strings:\n",
        "        max_x=x_old[i].max()\n",
        "        min_x=x_old[i].min()\n",
        "        a=(max_x+min_x)/2\n",
        "        b=(max_x-min_x)/2\n",
        "        x[i]=x[i]*b+a\n",
        "    return x"
      ],
      "execution_count": 0,
      "outputs": []
    },
    {
      "cell_type": "code",
      "metadata": {
        "id": "ww1KvVqReAhK",
        "colab_type": "code",
        "colab": {}
      },
      "source": [
        "def ANN(Epoch,Neuron_input,Neuron_hidden,Neuron_output,Learning_rate,X_train,y):\n",
        "  syn0 = 2*np.random.random((Neuron_input,Neuron_hidden)) - 1\n",
        "  syn1 = 2*np.random.random((Neuron_hidden,Neuron_output)) - 1\n",
        "  for j in range(Epoch):\n",
        "    l0 = X_train\n",
        "    l1 = tasig(np.dot(l0,syn0))\n",
        "    l2 = purelin(np.dot(l1,syn1))\n",
        "    l2_error = y - l2\n",
        "    l2_delta = l2_error*purelin(l2,deriv=True)\n",
        "    l1_error = l2_delta.dot(syn1.T)\n",
        "    l1_delta = l1_error * tasig(l1,deriv=True)\n",
        "    syn1 += l1.T.dot(l2_delta)*Learning_rate\n",
        "    syn0 += l0.T.dot(l1_delta)*Learning_rate\n",
        "  return syn0,syn1\n",
        "\n"
      ],
      "execution_count": 0,
      "outputs": []
    },
    {
      "cell_type": "code",
      "metadata": {
        "id": "aA6TlqJI0hdM",
        "colab_type": "code",
        "colab": {}
      },
      "source": [
        "def ANN_ycal(syn0,syn1,X_train):\n",
        "  l0 = X_train\n",
        "  l1 = tasig(np.dot(l0,syn0))\n",
        "  l2 = purelin(np.dot(l1,syn1))\n",
        "  y_calc=np.reshape(l2,len(l2))\n",
        "  return y_calc"
      ],
      "execution_count": 0,
      "outputs": []
    },
    {
      "cell_type": "code",
      "metadata": {
        "id": "a5W9iRbPkKsg",
        "colab_type": "code",
        "colab": {}
      },
      "source": [
        "def Classifica(ycalc):\n",
        "  n=len(ycalc)\n",
        "  for i in range(n):\n",
        "    if(ycalc[i]<0):\n",
        "      ycalc[i]=-1\n",
        "    else:\n",
        "      ycalc[i]=1\n",
        "  return ycalc"
      ],
      "execution_count": 0,
      "outputs": []
    },
    {
      "cell_type": "code",
      "metadata": {
        "id": "NEL03IsAOY-m",
        "colab_type": "code",
        "colab": {}
      },
      "source": [
        "def PrecisaoGlobal(tn, fp, fn, tp):\n",
        "  PrecGlob=(tn+tp)/(tn+ fp+ fn+ tp)\n",
        "  return PrecGlob"
      ],
      "execution_count": 0,
      "outputs": []
    },
    {
      "cell_type": "code",
      "metadata": {
        "id": "EzyC9O_NwhPC",
        "colab_type": "code",
        "colab": {}
      },
      "source": [
        "# leitura dos dados\n",
        "DAT=pd.read_csv(\"XY_D10_30_out_7_2019.csv\")\n",
        "#print(DAT.head())\n",
        "#print(len(DAT))"
      ],
      "execution_count": 0,
      "outputs": []
    },
    {
      "cell_type": "code",
      "metadata": {
        "id": "68JOHC6Ozv6d",
        "colab_type": "code",
        "colab": {}
      },
      "source": [
        "# separa as colunas de interesse\n",
        "Index=[1,2,3,4,5,6,7,8,9,10,11,12,13,14,15,16,17]\n",
        "Dat_Select=[]\n",
        "Dat_Select=DAT.iloc[:,Index].copy()\n",
        "\n",
        "pd.set_option('display.max_columns', 30)\n",
        "pd.set_option('display.max_rows', 30)\n",
        "#print(Dat_Select)\n",
        "#print(Dat_Select.head())"
      ],
      "execution_count": 0,
      "outputs": []
    },
    {
      "cell_type": "code",
      "metadata": {
        "id": "_vpQ5HTM06TE",
        "colab_type": "code",
        "colab": {}
      },
      "source": [
        "DAT_OLD=[]\n",
        "DAT_OLD=Dat_Select.copy()\n",
        "DAT=Normatiza(Dat_Select)"
      ],
      "execution_count": 0,
      "outputs": []
    },
    {
      "cell_type": "code",
      "metadata": {
        "id": "bGkfp8xiinMU",
        "colab_type": "code",
        "colab": {}
      },
      "source": [
        "ColF=DAT_OLD['F']\n",
        "W=np.array(DAT_OLD['F'])\n",
        "Wo=np.array(DAT_OLD['Fo'])\n",
        "for i in range(len(W)):\n",
        "  W[i]=W[i]-Wo[i]\n",
        "  if(W[i]<0):\n",
        "    W[i]=-1\n",
        "  else:\n",
        "    W[i]=1\n",
        "DAT['F'] = W"
      ],
      "execution_count": 0,
      "outputs": []
    },
    {
      "cell_type": "code",
      "metadata": {
        "id": "A4LF09Cq0hJu",
        "colab_type": "code",
        "outputId": "5c93804d-216f-4f7a-e380-47d4facd14f0",
        "colab": {
          "base_uri": "https://localhost:8080/",
          "height": 73
        }
      },
      "source": [
        "# obtem as variaveis independentes (treino e teste)\n",
        "# separa os dados em treino e teste\n",
        "train=DAT.sample(frac=0.8,random_state=None) \n",
        "test=DAT.drop(train.index)\n",
        "IND=[1,2,3,4,6,7,8,9,10,11,12,13,14]\n",
        "x_train=train.iloc[:,IND]\n",
        "x_test=test.iloc[:,IND]\n",
        "X_OLD=DAT_OLD.iloc[:,IND]\n",
        "X_NOME=DAT_OLD.columns[IND]\n",
        "print(X_NOME)\n"
      ],
      "execution_count": 14,
      "outputs": [
        {
          "output_type": "stream",
          "text": [
            "Index(['DI RELATIVO', 'FRAC Its', 'VELOC FOBJ', 'VELOC X', 'Fo', 'CRo', 'fmin',\n",
            "       'fmax', 'AD_fmin', 'AD_fmax', 'DELTA FOBJ', 'DELTA VX', 'r_fitness'],\n",
            "      dtype='object')\n"
          ],
          "name": "stdout"
        }
      ]
    },
    {
      "cell_type": "code",
      "metadata": {
        "id": "YW3TW3wQZdLc",
        "colab_type": "code",
        "colab": {}
      },
      "source": [
        "MELHOR_PRECISAO=0\n",
        "MAT0=[]\n",
        "MAT1=[]\n",
        "MATX=[]\n",
        "CONFUSAO=[]"
      ],
      "execution_count": 0,
      "outputs": []
    },
    {
      "cell_type": "code",
      "metadata": {
        "id": "ZSuUAFrL3E1C",
        "colab_type": "code",
        "colab": {}
      },
      "source": [
        "# obtem as variaveis dependentes (treino e teste)\n",
        "#Index=[15] #F\n",
        "Index=[16] #CR\n",
        "y_train=train.iloc[:,Index]\n",
        "y_test=test.iloc[:,Index]\n",
        "Y_OLD=DAT_OLD.iloc[:,Index]\n",
        "#print(y_train.head())"
      ],
      "execution_count": 0,
      "outputs": []
    },
    {
      "cell_type": "code",
      "metadata": {
        "id": "H0GiIKBXXDgu",
        "colab_type": "code",
        "colab": {}
      },
      "source": [
        "y_train=np.array(y_train)\n",
        "Nomes=x_train.columns\n",
        "x_test=np.array(x_test)\n",
        "x_train=np.array(x_train)"
      ],
      "execution_count": 0,
      "outputs": []
    },
    {
      "cell_type": "code",
      "metadata": {
        "id": "C-12imaj0ZqU",
        "colab_type": "code",
        "colab": {}
      },
      "source": [
        "# input dataset\n",
        "Neuron_input=len(X_NOME)\n",
        "Neuron_hidden=9\n",
        "Neuron_output=1\n",
        "Learning_rate=0.001\n",
        "omega=0.9\n",
        "Epoch=20000\n",
        "syn0,syn1=ANN(Epoch,Neuron_input,Neuron_hidden,Neuron_output,Learning_rate,x_train,y_train)\n",
        "y_obs_train=y_train\n",
        "y_obs_test=y_test\n",
        "y_calc_train=ANN_ycal(syn0,syn1,x_train)\n",
        "y_calc_test=ANN_ycal(syn0,syn1,x_test)\n"
      ],
      "execution_count": 0,
      "outputs": []
    },
    {
      "cell_type": "code",
      "metadata": {
        "colab_type": "code",
        "outputId": "cef2f371-ab35-46c2-929d-a0b2f1cac844",
        "id": "7YrQjethbp2T",
        "colab": {
          "base_uri": "https://localhost:8080/",
          "height": 596
        }
      },
      "source": [
        "print(\"Epocas=\",Epoch,\"Learning rate=\",Learning_rate,\"Dados teste matriz confusao:\")\n",
        "print(X_NOME)\n",
        "\n",
        "print(\"====++++=====+++++=====+++++======+++++=====+++++++\")\n",
        "y_obs_test=np.array(y_obs_test);y_obs_test=Classifica(y_obs_test).ravel();print(y_obs_test)\n",
        "y_obs_train=np.array(y_obs_train);y_obs_train=Classifica(y_obs_train).ravel();print(y_obs_train)\n",
        "y_calc_test=np.array(y_calc_test);y_calc_test=Classifica(y_calc_test).ravel();print(y_calc_test)\n",
        "y_calc_train=np.array(y_calc_train);y_calc_train=Classifica(y_calc_train).ravel();print(y_calc_train)\n",
        "print(\"====++++=====+++++=====+++++======+++++=====+++++++\")\n",
        "tn, fp, fn, tp = confusion_matrix(y_calc_train,y_obs_train).ravel()\n",
        "PrecTreino=PrecisaoGlobal(tn, fp, fn, tp)\n",
        "print(\"Treino precisao global=\",PrecTreino)\n",
        "print(\"Treino tn: %d  fp: %d fn: %d tp: %d\" % (tn, fp, fn, tp))\n",
        "print(confusion_matrix(y_calc_train,y_obs_train))\n",
        "\n",
        "print(\"====================================\")\n",
        "tn, fp, fn, tp = confusion_matrix(y_calc_test,y_obs_test).ravel()\n",
        "PrecTeste=PrecisaoGlobal(tn, fp, fn, tp)\n",
        "print(\"Teste: precisao global=\",PrecTeste)\n",
        "print(\"Teste tn: %d  fp: %d fn: %d tp: %d\" % (tn, fp, fn, tp))\n",
        "print(confusion_matrix(y_calc_test,y_obs_test))\n",
        "\n",
        "if(MELHOR_PRECISAO< PrecTeste):\n",
        "  MELHOR_PRECISAO=PrecTeste\n",
        "  MAT0=np.copy(syn0)\n",
        "  MAT1=np.copy(syn1)\n",
        "  MATX=np.copy(X_OLD)\n",
        "  CONF_teste=np.copy(confusion_matrix(y_calc_test,y_obs_test))\n",
        "  CONF_treino=np.copy(confusion_matrix(y_calc_train,y_obs_train))\n"
      ],
      "execution_count": 19,
      "outputs": [
        {
          "output_type": "stream",
          "text": [
            "Epocas= 20000 Learning rate= 0.001 Dados teste matriz confusao:\n",
            "Index(['DI RELATIVO', 'FRAC Its', 'VELOC FOBJ', 'VELOC X', 'Fo', 'CRo', 'fmin',\n",
            "       'fmax', 'AD_fmin', 'AD_fmax', 'DELTA FOBJ', 'DELTA VX', 'r_fitness'],\n",
            "      dtype='object')\n",
            "====++++=====+++++=====+++++======+++++=====+++++++\n",
            "[ 1. -1. -1. -1. -1. -1. -1. -1. -1.  1. -1.  1.  1. -1. -1. -1. -1. -1.\n",
            " -1. -1. -1. -1. -1.  1.  1.]\n",
            "[ 1.  1. -1.  1. -1. -1. -1.  1. -1. -1. -1. -1.  1. -1. -1. -1.  1. -1.\n",
            "  1. -1. -1. -1. -1. -1. -1. -1. -1. -1. -1. -1.  1. -1. -1. -1. -1.  1.\n",
            " -1. -1.  1. -1. -1. -1. -1. -1. -1. -1. -1. -1.  1. -1.  1. -1. -1. -1.\n",
            " -1. -1. -1. -1. -1. -1.  1.  1. -1. -1.  1. -1.  1. -1.  1. -1. -1.  1.\n",
            " -1. -1. -1. -1. -1. -1. -1.  1. -1.  1. -1. -1.  1. -1.  1. -1.  1. -1.\n",
            " -1. -1.  1. -1. -1.  1.  1. -1. -1.  1. -1.]\n",
            "[-1. -1. -1. -1. -1. -1. -1. -1. -1. -1.  1.  1. -1.  1. -1. -1. -1. -1.\n",
            "  1.  1. -1. -1. -1. -1.  1.]\n",
            "[ 1. -1. -1.  1. -1. -1. -1.  1. -1. -1. -1. -1.  1. -1. -1. -1.  1. -1.\n",
            " -1. -1. -1. -1. -1. -1. -1. -1. -1. -1. -1. -1.  1. -1. -1. -1. -1.  1.\n",
            " -1. -1.  1. -1. -1. -1. -1. -1. -1. -1. -1. -1.  1. -1.  1. -1. -1. -1.\n",
            " -1. -1. -1. -1. -1. -1.  1.  1. -1. -1.  1. -1.  1. -1.  1. -1. -1.  1.\n",
            " -1. -1. -1. -1. -1. -1. -1.  1. -1.  1. -1. -1.  1.  1.  1. -1.  1. -1.\n",
            " -1. -1.  1. -1. -1.  1.  1. -1. -1.  1. -1.]\n",
            "====++++=====+++++=====+++++======+++++=====+++++++\n",
            "Treino precisao global= 0.9702970297029703\n",
            "Treino tn: 73  fp: 2 fn: 1 tp: 25\n",
            "[[73  2]\n",
            " [ 1 25]]\n",
            "====================================\n",
            "Teste: precisao global= 0.68\n",
            "Teste tn: 15  fp: 4 fn: 4 tp: 2\n",
            "[[15  4]\n",
            " [ 4  2]]\n"
          ],
          "name": "stdout"
        }
      ]
    },
    {
      "cell_type": "code",
      "metadata": {
        "id": "CfOKkXhhCNKY",
        "colab_type": "code",
        "colab": {
          "base_uri": "https://localhost:8080/",
          "height": 55
        },
        "outputId": "d0ac46ab-5523-4196-b002-0fb9260fe620"
      },
      "source": [
        "print(y_calc_test)"
      ],
      "execution_count": 20,
      "outputs": [
        {
          "output_type": "stream",
          "text": [
            "[-1. -1. -1. -1. -1. -1. -1. -1. -1. -1.  1.  1. -1.  1. -1. -1. -1. -1.\n",
            "  1.  1. -1. -1. -1. -1.  1.]\n"
          ],
          "name": "stdout"
        }
      ]
    },
    {
      "cell_type": "code",
      "metadata": {
        "colab_type": "code",
        "id": "bwXwBspmE4Cj",
        "colab": {}
      },
      "source": [
        ""
      ],
      "execution_count": 0,
      "outputs": []
    },
    {
      "cell_type": "code",
      "metadata": {
        "id": "ZDZNSris5shN",
        "colab_type": "code",
        "colab": {
          "base_uri": "https://localhost:8080/",
          "height": 241
        },
        "outputId": "55032937-db28-4a78-8ef0-d736eeb64408"
      },
      "source": [
        "print(y_obs_train)\n",
        "print(y_calc_train)"
      ],
      "execution_count": 21,
      "outputs": [
        {
          "output_type": "stream",
          "text": [
            "[ 1.  1. -1.  1. -1. -1. -1.  1. -1. -1. -1. -1.  1. -1. -1. -1.  1. -1.\n",
            "  1. -1. -1. -1. -1. -1. -1. -1. -1. -1. -1. -1.  1. -1. -1. -1. -1.  1.\n",
            " -1. -1.  1. -1. -1. -1. -1. -1. -1. -1. -1. -1.  1. -1.  1. -1. -1. -1.\n",
            " -1. -1. -1. -1. -1. -1.  1.  1. -1. -1.  1. -1.  1. -1.  1. -1. -1.  1.\n",
            " -1. -1. -1. -1. -1. -1. -1.  1. -1.  1. -1. -1.  1. -1.  1. -1.  1. -1.\n",
            " -1. -1.  1. -1. -1.  1.  1. -1. -1.  1. -1.]\n",
            "[ 1. -1. -1.  1. -1. -1. -1.  1. -1. -1. -1. -1.  1. -1. -1. -1.  1. -1.\n",
            " -1. -1. -1. -1. -1. -1. -1. -1. -1. -1. -1. -1.  1. -1. -1. -1. -1.  1.\n",
            " -1. -1.  1. -1. -1. -1. -1. -1. -1. -1. -1. -1.  1. -1.  1. -1. -1. -1.\n",
            " -1. -1. -1. -1. -1. -1.  1.  1. -1. -1.  1. -1.  1. -1.  1. -1. -1.  1.\n",
            " -1. -1. -1. -1. -1. -1. -1.  1. -1.  1. -1. -1.  1.  1.  1. -1.  1. -1.\n",
            " -1. -1.  1. -1. -1.  1.  1. -1. -1.  1. -1.]\n"
          ],
          "name": "stdout"
        }
      ]
    },
    {
      "cell_type": "code",
      "metadata": {
        "id": "4Ld0k8q9BVr0",
        "colab_type": "code",
        "colab": {}
      },
      "source": [
        "# input dataset\n",
        "Neuron_input=len(X_NOME)\n",
        "Neuron_hidden=9\n",
        "Neuron_output=1\n",
        "Learning_rate=0.0001\n",
        "omega=0.9\n",
        "Epoch=100000\n",
        "syn0,syn1=ANN(Epoch,Neuron_input,Neuron_hidden,Neuron_output,Learning_rate,x_train,y_train)\n",
        "y_obs_train=y_train\n",
        "y_obs_test=y_test\n",
        "y_calc_train=ANN_ycal(syn0,syn1,x_train)\n",
        "y_obs_test=y_test\n",
        "y_calc_test=ANN_ycal(syn0,syn1,x_test)\n",
        "\n"
      ],
      "execution_count": 0,
      "outputs": []
    },
    {
      "cell_type": "code",
      "metadata": {
        "colab_type": "code",
        "id": "Xb8lzp_oSHjg",
        "colab": {
          "base_uri": "https://localhost:8080/",
          "height": 559
        },
        "outputId": "0562896c-7b9b-44d7-af81-a303787d94db"
      },
      "source": [
        "print(\"Epocas=\",Epoch,\"Learning rate=\",Learning_rate,\"Dados teste matriz confusao:\")\n",
        "print(X_NOME)\n",
        "\n",
        "y_obs_test=np.array(y_obs_test);y_obs_test=Classifica(y_obs_test).ravel();print(y_obs_test)\n",
        "y_obs_train=np.array(y_obs_train);y_obs_train=Classifica(y_obs_train).ravel();print(y_obs_train)\n",
        "y_calc_test=np.array(y_calc_test);y_calc_test=Classifica(y_calc_test).ravel();print(y_calc_test)\n",
        "y_calc_train=np.array(y_calc_train);y_calc_train=Classifica(y_calc_train).ravel();print(y_calc_train)\n",
        "\n",
        "\n",
        "\n",
        "tn, fp, fn, tp = confusion_matrix(y_calc_train,y_obs_train).ravel()\n",
        "PrecTreino=PrecisaoGlobal(tn, fp, fn, tp)\n",
        "print(\"Treino precisao global=\",PrecTreino)\n",
        "print(\"Treino tn: %d  fp: %d fn: %d tp: %d\" % (tn, fp, fn, tp))\n",
        "print(confusion_matrix(y_calc_train,y_obs_train))\n",
        "\n",
        "\n",
        "print(\"====================================\")\n",
        "tn, fp, fn, tp = confusion_matrix(y_calc_test,y_obs_test).ravel()\n",
        "PrecTeste=PrecisaoGlobal(tn, fp, fn, tp)\n",
        "print(\"Teste: precisao global=\",PrecTeste)\n",
        "print(\"Teste tn: %d  fp: %d fn: %d tp: %d\" % (tn, fp, fn, tp))\n",
        "print(confusion_matrix(y_calc_test,y_obs_test))\n",
        "\n",
        "\n",
        "\n",
        "if(MELHOR_PRECISAO< PrecTeste):\n",
        "  MELHOR_PRECISAO=PrecTeste\n",
        "  MAT0=np.copy(syn0)\n",
        "  MAT1=np.copy(syn1)\n",
        "  MATX=np.copy(X_OLD)\n",
        "  CONF_teste=np.copy(confusion_matrix(y_calc_test,y_obs_test))\n",
        "  CONF_treino=np.copy(confusion_matrix(y_calc_train,y_obs_train))"
      ],
      "execution_count": 23,
      "outputs": [
        {
          "output_type": "stream",
          "text": [
            "Epocas= 100000 Learning rate= 0.0001 Dados teste matriz confusao:\n",
            "Index(['DI RELATIVO', 'FRAC Its', 'VELOC FOBJ', 'VELOC X', 'Fo', 'CRo', 'fmin',\n",
            "       'fmax', 'AD_fmin', 'AD_fmax', 'DELTA FOBJ', 'DELTA VX', 'r_fitness'],\n",
            "      dtype='object')\n",
            "[ 1. -1. -1. -1. -1. -1. -1. -1. -1.  1. -1.  1.  1. -1. -1. -1. -1. -1.\n",
            " -1. -1. -1. -1. -1.  1.  1.]\n",
            "[ 1.  1. -1.  1. -1. -1. -1.  1. -1. -1. -1. -1.  1. -1. -1. -1.  1. -1.\n",
            "  1. -1. -1. -1. -1. -1. -1. -1. -1. -1. -1. -1.  1. -1. -1. -1. -1.  1.\n",
            " -1. -1.  1. -1. -1. -1. -1. -1. -1. -1. -1. -1.  1. -1.  1. -1. -1. -1.\n",
            " -1. -1. -1. -1. -1. -1.  1.  1. -1. -1.  1. -1.  1. -1.  1. -1. -1.  1.\n",
            " -1. -1. -1. -1. -1. -1. -1.  1. -1.  1. -1. -1.  1. -1.  1. -1.  1. -1.\n",
            " -1. -1.  1. -1. -1.  1.  1. -1. -1.  1. -1.]\n",
            "[ 1.  1. -1. -1. -1. -1.  1. -1. -1.  1. -1.  1.  1.  1. -1. -1. -1. -1.\n",
            "  1.  1. -1. -1. -1. -1.  1.]\n",
            "[ 1.  1. -1.  1. -1. -1. -1.  1. -1. -1. -1. -1.  1. -1. -1. -1.  1. -1.\n",
            "  1. -1. -1. -1. -1. -1. -1. -1. -1. -1. -1. -1.  1. -1. -1. -1. -1.  1.\n",
            " -1. -1.  1. -1. -1. -1. -1. -1. -1. -1. -1. -1.  1. -1.  1.  1. -1. -1.\n",
            " -1. -1. -1. -1. -1. -1.  1.  1. -1. -1.  1. -1.  1. -1.  1. -1. -1.  1.\n",
            " -1. -1. -1. -1. -1. -1. -1.  1. -1.  1. -1. -1.  1.  1.  1. -1.  1. -1.\n",
            " -1. -1.  1. -1. -1.  1.  1. -1. -1.  1. -1.]\n",
            "Treino precisao global= 0.9801980198019802\n",
            "Treino tn: 72  fp: 0 fn: 2 tp: 27\n",
            "[[72  0]\n",
            " [ 2 27]]\n",
            "====================================\n",
            "Teste: precisao global= 0.76\n",
            "Teste tn: 14  fp: 1 fn: 5 tp: 5\n",
            "[[14  1]\n",
            " [ 5  5]]\n"
          ],
          "name": "stdout"
        }
      ]
    },
    {
      "cell_type": "code",
      "metadata": {
        "id": "X-i4-9_ASjJo",
        "colab_type": "code",
        "colab": {}
      },
      "source": [
        "# print(X_NOME)"
      ],
      "execution_count": 0,
      "outputs": []
    },
    {
      "cell_type": "code",
      "metadata": {
        "id": "CT-AMyJ_Sc_k",
        "colab_type": "code",
        "colab": {
          "base_uri": "https://localhost:8080/",
          "height": 36
        },
        "outputId": "9b56e00b-1729-4ea2-d3b7-bd4558ea9425"
      },
      "source": [
        "# ========= Novas mudancas ==================================================\n",
        "IND=[1,2,6,7]\n",
        "x_train=train.iloc[:,IND]\n",
        "x_test=test.iloc[:,IND]\n",
        "X_OLD=DAT_OLD.iloc[:,IND]\n",
        "X_NOME=DAT_OLD.columns[IND]\n",
        "print(X_NOME)\n",
        "y_train=np.array(y_train)\n",
        "x_test=np.array(x_test)\n",
        "x_train=np.array(x_train)"
      ],
      "execution_count": 25,
      "outputs": [
        {
          "output_type": "stream",
          "text": [
            "Index(['DI RELATIVO', 'FRAC Its', 'Fo', 'CRo'], dtype='object')\n"
          ],
          "name": "stdout"
        }
      ]
    },
    {
      "cell_type": "code",
      "metadata": {
        "id": "QNcu08l11Hiy",
        "colab_type": "code",
        "colab": {}
      },
      "source": [
        "# input dataset\n",
        "Neuron_input=len(X_NOME)\n",
        "Neuron_hidden=9\n",
        "Neuron_output=1\n",
        "Learning_rate=0.0001\n",
        "omega=0.9\n",
        "Epoch=300000\n",
        "syn0,syn1=ANN(Epoch,Neuron_input,Neuron_hidden,Neuron_output,Learning_rate,x_train,y_train)\n",
        "y_obs_train=y_train\n",
        "y_obs_test=y_test\n",
        "y_calc_train=ANN_ycal(syn0,syn1,x_train)\n",
        "y_obs_test=y_test\n",
        "y_calc_test=ANN_ycal(syn0,syn1,x_test)\n",
        "\n"
      ],
      "execution_count": 0,
      "outputs": []
    },
    {
      "cell_type": "code",
      "metadata": {
        "id": "gqicKzzwIFMW",
        "colab_type": "code",
        "colab": {
          "base_uri": "https://localhost:8080/",
          "height": 521
        },
        "outputId": "e07820e9-fd06-4a9d-eaf9-25e222c0d30d"
      },
      "source": [
        "print(\"Epocas=\",Epoch,\"Learning rate=\",Learning_rate,\"Dados teste matriz confusao:\")\n",
        "print(X_NOME)\n",
        "\n",
        "y_obs_test=np.array(y_obs_test);y_obs_test=Classifica(y_obs_test).ravel();print(y_obs_test)\n",
        "y_obs_train=np.array(y_obs_train);y_obs_train=Classifica(y_obs_train).ravel();print(y_obs_train)\n",
        "y_calc_test=np.array(y_calc_test);y_calc_test=Classifica(y_calc_test).ravel();print(y_calc_test)\n",
        "y_calc_train=np.array(y_calc_train);y_calc_train=Classifica(y_calc_train).ravel();print(y_calc_train)\n",
        "\n",
        "\n",
        "\n",
        "tn, fp, fn, tp = confusion_matrix(y_calc_train,y_obs_train).ravel()\n",
        "PrecTreino=PrecisaoGlobal(tn, fp, fn, tp)\n",
        "print(\"Treino precisao global=\",PrecTreino)\n",
        "print(\"Treino tn: %d  fp: %d fn: %d tp: %d\" % (tn, fp, fn, tp))\n",
        "print(confusion_matrix(y_calc_train,y_obs_train))\n",
        "\n",
        "\n",
        "print(\"====================================\")\n",
        "tn, fp, fn, tp = confusion_matrix(y_calc_test,y_obs_test).ravel()\n",
        "PrecTeste=PrecisaoGlobal(tn, fp, fn, tp)\n",
        "print(\"Teste: precisao global=\",PrecTeste)\n",
        "print(\"Teste tn: %d  fp: %d fn: %d tp: %d\" % (tn, fp, fn, tp))\n",
        "print(confusion_matrix(y_calc_test,y_obs_test))\n",
        "\n",
        "\n",
        "\n",
        "if(MELHOR_PRECISAO< PrecTeste):\n",
        "  MELHOR_PRECISAO=PrecTeste\n",
        "  MAT0=np.copy(syn0)\n",
        "  MAT1=np.copy(syn1)\n",
        "  MATX=np.copy(X_OLD)\n",
        "  CONF_teste=np.copy(confusion_matrix(y_calc_test,y_obs_test))\n",
        "  CONF_treino=np.copy(confusion_matrix(y_calc_train,y_obs_train))\n",
        "\n"
      ],
      "execution_count": 27,
      "outputs": [
        {
          "output_type": "stream",
          "text": [
            "Epocas= 300000 Learning rate= 0.0001 Dados teste matriz confusao:\n",
            "Index(['DI RELATIVO', 'FRAC Its', 'Fo', 'CRo'], dtype='object')\n",
            "[ 1. -1. -1. -1. -1. -1. -1. -1. -1.  1. -1.  1.  1. -1. -1. -1. -1. -1.\n",
            " -1. -1. -1. -1. -1.  1.  1.]\n",
            "[ 1.  1. -1.  1. -1. -1. -1.  1. -1. -1. -1. -1.  1. -1. -1. -1.  1. -1.\n",
            "  1. -1. -1. -1. -1. -1. -1. -1. -1. -1. -1. -1.  1. -1. -1. -1. -1.  1.\n",
            " -1. -1.  1. -1. -1. -1. -1. -1. -1. -1. -1. -1.  1. -1.  1. -1. -1. -1.\n",
            " -1. -1. -1. -1. -1. -1.  1.  1. -1. -1.  1. -1.  1. -1.  1. -1. -1.  1.\n",
            " -1. -1. -1. -1. -1. -1. -1.  1. -1.  1. -1. -1.  1. -1.  1. -1.  1. -1.\n",
            " -1. -1.  1. -1. -1.  1.  1. -1. -1.  1. -1.]\n",
            "[-1. -1. -1. -1. -1. -1. -1. -1. -1.  1. -1.  1. -1. -1. -1. -1. -1. -1.\n",
            " -1. -1. -1. -1.  1.  1. -1.]\n",
            "[ 1.  1. -1.  1. -1. -1. -1.  1. -1. -1. -1. -1.  1. -1. -1.  1.  1. -1.\n",
            "  1. -1. -1. -1.  1.  1. -1. -1. -1. -1. -1. -1.  1. -1. -1. -1. -1.  1.\n",
            " -1. -1.  1. -1. -1. -1. -1.  1.  1. -1. -1. -1.  1. -1.  1.  1. -1. -1.\n",
            " -1. -1. -1. -1. -1. -1.  1.  1. -1. -1.  1. -1.  1. -1.  1. -1. -1.  1.\n",
            "  1. -1. -1. -1. -1. -1. -1.  1. -1.  1. -1. -1.  1.  1.  1.  1.  1. -1.\n",
            " -1. -1.  1. -1. -1.  1.  1. -1. -1.  1. -1.]\n",
            "Treino precisao global= 0.9108910891089109\n",
            "Treino tn: 65  fp: 0 fn: 9 tp: 27\n",
            "[[65  0]\n",
            " [ 9 27]]\n",
            "====================================\n",
            "Teste: precisao global= 0.84\n",
            "Teste tn: 18  fp: 3 fn: 1 tp: 3\n",
            "[[18  3]\n",
            " [ 1  3]]\n"
          ],
          "name": "stdout"
        }
      ]
    },
    {
      "cell_type": "code",
      "metadata": {
        "id": "hc7oCwk3NFND",
        "colab_type": "code",
        "colab": {
          "base_uri": "https://localhost:8080/",
          "height": 335
        },
        "outputId": "ad187811-e561-4d61-b6f1-e5ceca72d92d"
      },
      "source": [
        "print(\"Melhor precisao=\",MELHOR_PRECISAO)\n",
        "#print(MAT0)\n",
        "#print(MAT1)\n",
        "print(pd.DataFrame(MATX))\n",
        "nl0=MAT0.shape[0];nc0=MAT0.shape[1]\n",
        "nl1=MAT1.shape[0];nc1=MAT1.shape[1]\n",
        "print(\"colunas %d e linhas %d MAT0\" % (nc0,nl0))\n",
        "print(\"colunas %d e linhas %d MAT1\" % (nc1,nl1))\n",
        "#print(CONF_teste)\n",
        "#print(CONF_treino)"
      ],
      "execution_count": 28,
      "outputs": [
        {
          "output_type": "stream",
          "text": [
            "Melhor precisao= 0.84\n",
            "            0         1         2         3\n",
            "0    1.081077  0.200000  0.798558  0.531855\n",
            "1    1.091500  0.300000  0.618503  0.966139\n",
            "2    1.107599  0.400000  0.627984  0.944441\n",
            "3    1.144213  0.500000  0.894793  0.571047\n",
            "4    1.079718  0.600000  0.901544  0.852554\n",
            "..        ...       ...       ...       ...\n",
            "121  0.932264  0.720000  0.981445  0.988007\n",
            "122  0.928187  0.840000  0.898388  0.103469\n",
            "123  0.939966  0.960000  0.565138  0.726098\n",
            "124  0.939669  1.000033  0.943371  0.268703\n",
            "125  0.939669  1.000033  0.579287  0.936870\n",
            "\n",
            "[126 rows x 4 columns]\n",
            "colunas 9 e linhas 4 MAT0\n",
            "colunas 1 e linhas 9 MAT1\n"
          ],
          "name": "stdout"
        }
      ]
    },
    {
      "cell_type": "code",
      "metadata": {
        "id": "u_JANQ_rkZjw",
        "colab_type": "code",
        "colab": {
          "base_uri": "https://localhost:8080/",
          "height": 73
        },
        "outputId": "d35b3bd8-5993-49f6-ec07-099dcca37d7a"
      },
      "source": [
        "Nomes=['OTIMO','PARTIC_best','Xresp']\n",
        "print(\"Melhor precisao=\",MELHOR_PRECISAO)\n",
        "#print(MAT0)\n",
        "#print(MAT1)\n",
        "nl0=MAT0.shape[0];nc0=MAT0.shape[1]\n",
        "nl1=MAT1.shape[0];nc1=MAT1.shape[1]\n",
        "print(\"colunas %d e linhas %d MAT0\" % (nc0,nl0))\n",
        "print(\"colunas %d e linhas %d MAT1\" % (nc1,nl1))\n",
        "#print(CONF_teste)\n",
        "#print(CONF_treino)\n",
        "#BUSCA=pd.Series([OTIMO,PARTIC_best,Xresp],index=Nomes )"
      ],
      "execution_count": 29,
      "outputs": [
        {
          "output_type": "stream",
          "text": [
            "Melhor precisao= 0.84\n",
            "colunas 9 e linhas 4 MAT0\n",
            "colunas 1 e linhas 9 MAT1\n"
          ],
          "name": "stdout"
        }
      ]
    },
    {
      "cell_type": "code",
      "metadata": {
        "id": "c2n_NdzlDrE9",
        "colab_type": "code",
        "colab": {
          "base_uri": "https://localhost:8080/",
          "height": 167
        },
        "outputId": "c3546db9-2c19-4145-9501-fcdd7bff6b86"
      },
      "source": [
        "dim=np.array([[nl0,nc0],[nl1,nc1]])\n",
        "Dummies=['hello pandas I am envolving']\n",
        "Armazenar=['Dummie','MAT0','MAT1','dim','Conf_treino','Conf_teste','precisao']\n",
        "BUSCA=pd.Series([Dummies,MAT0,MAT1,dim,CONF_treino,CONF_teste,MELHOR_PRECISAO],index=Armazenar )\n",
        "BUSCA\n",
        "BUSCA = pd.DataFrame(BUSCA) \n",
        "print(BUSCA)\n"
      ],
      "execution_count": 30,
      "outputs": [
        {
          "output_type": "stream",
          "text": [
            "                                                             0\n",
            "Dummie                           [hello pandas I am envolving]\n",
            "MAT0         [[0.12131491707709129, -3.2611169080640936, -0...\n",
            "MAT1         [[0.9629159485674142], [2.4458826413515444], [...\n",
            "dim                                           [[4, 9], [9, 1]]\n",
            "Conf_treino                                 [[65, 0], [9, 27]]\n",
            "Conf_teste                                   [[18, 3], [1, 3]]\n",
            "precisao                                                  0.84\n"
          ],
          "name": "stdout"
        }
      ]
    },
    {
      "cell_type": "code",
      "metadata": {
        "id": "3LhM2XIgCtTg",
        "colab_type": "code",
        "colab": {
          "base_uri": "https://localhost:8080/",
          "height": 167
        },
        "outputId": "4090b876-2f11-4940-984a-6c03e2087756"
      },
      "source": [
        "print(BUSCA)"
      ],
      "execution_count": 31,
      "outputs": [
        {
          "output_type": "stream",
          "text": [
            "                                                             0\n",
            "Dummie                           [hello pandas I am envolving]\n",
            "MAT0         [[0.12131491707709129, -3.2611169080640936, -0...\n",
            "MAT1         [[0.9629159485674142], [2.4458826413515444], [...\n",
            "dim                                           [[4, 9], [9, 1]]\n",
            "Conf_treino                                 [[65, 0], [9, 27]]\n",
            "Conf_teste                                   [[18, 3], [1, 3]]\n",
            "precisao                                                  0.84\n"
          ],
          "name": "stdout"
        }
      ]
    },
    {
      "cell_type": "code",
      "metadata": {
        "id": "e6g8idaG2mzD",
        "colab_type": "code",
        "colab": {
          "base_uri": "https://localhost:8080/",
          "height": 1000
        },
        "outputId": "e6f9ee1e-642f-4a1e-d0f6-9646a01a6928"
      },
      "source": [
        "cn=nc0+nc1;print(cn)\n",
        "lmax=max([nl0,nl1]);print(lmax)\n",
        "print(MAT0.shape);print(MAT1.shape)\n",
        "syn0=pd.DataFrame(MAT0)\n",
        "syn1=pd.DataFrame(MAT1)\n",
        "M=np.zeros((lmax,1))\n",
        "M[0,0]=nl0;M[1,0]=nc0;M[2,0]=nl1;M[3,0]=nc1;\n",
        "M=pd.DataFrame(M)\n",
        "for i in range(nc0):\n",
        "  M[i+1]=syn0[i]\n",
        "print(M)\n",
        "for i in range(nc1):\n",
        "  M[i+nc0+1]=syn1[i]\n",
        "print(M)\n",
        "#M[range(1,nc0+1)]=syn0\n",
        "Armazenar=['CONF_treino','CONF_teste','MELHOR_PRECISAO']\n",
        "Complemento=np.zeros(lmax-3)\n",
        "BUSCA=list(['CONF_treino',CONF_treino,'CONF_teste',CONF_teste,'MELHOR_PRECISAO',MELHOR_PRECISAO] )\n",
        "M[nc0+nc1+2]=pd.Series(BUSCA)\n",
        "MATX=pd.DataFrame(MATX)\n",
        "strings=list(MATX)\n",
        "MAT_MAX=[]\n",
        "MAT_MIN=[]\n",
        "for i in strings:\n",
        "  max_x=MATX[i].max()\n",
        "  min_x=MATX[i].min()\n",
        "  MAT_MAX.append(max_x)\n",
        "  MAT_MIN.append(min_x)\n",
        "#print(MAT_MAX)\n",
        "#print(MAT_MIN)\n",
        "M[nc0+nc1+3]=pd.Series(MAT_MIN)\n",
        "M[nc0+nc1+4]=pd.Series(MAT_MAX)\n",
        "print(M)"
      ],
      "execution_count": 32,
      "outputs": [
        {
          "output_type": "stream",
          "text": [
            "10\n",
            "9\n",
            "(4, 9)\n",
            "(9, 1)\n",
            "     0         1         2         3         4         5         6         7  \\\n",
            "0  4.0  0.121315 -3.261117 -0.242215 -0.329336  1.476191 -1.645264 -2.563130   \n",
            "1  9.0  0.296760 -1.548832 -1.751770  0.222169  0.147578  1.048306 -1.663161   \n",
            "2  9.0 -2.146284  2.268599  2.367729 -0.125938 -1.526887  0.718248  1.417951   \n",
            "3  1.0 -0.106657 -2.646478  0.729148  0.650023  2.523157  1.530936 -2.006753   \n",
            "4  0.0       NaN       NaN       NaN       NaN       NaN       NaN       NaN   \n",
            "5  0.0       NaN       NaN       NaN       NaN       NaN       NaN       NaN   \n",
            "6  0.0       NaN       NaN       NaN       NaN       NaN       NaN       NaN   \n",
            "7  0.0       NaN       NaN       NaN       NaN       NaN       NaN       NaN   \n",
            "8  0.0       NaN       NaN       NaN       NaN       NaN       NaN       NaN   \n",
            "\n",
            "          8         9  \n",
            "0  0.766117  2.101636  \n",
            "1 -2.609547 -3.541875  \n",
            "2  1.200970  0.718039  \n",
            "3  0.379368 -0.533301  \n",
            "4       NaN       NaN  \n",
            "5       NaN       NaN  \n",
            "6       NaN       NaN  \n",
            "7       NaN       NaN  \n",
            "8       NaN       NaN  \n",
            "    0         1         2         3         4         5         6         7   \\\n",
            "0  4.0  0.121315 -3.261117 -0.242215 -0.329336  1.476191 -1.645264 -2.563130   \n",
            "1  9.0  0.296760 -1.548832 -1.751770  0.222169  0.147578  1.048306 -1.663161   \n",
            "2  9.0 -2.146284  2.268599  2.367729 -0.125938 -1.526887  0.718248  1.417951   \n",
            "3  1.0 -0.106657 -2.646478  0.729148  0.650023  2.523157  1.530936 -2.006753   \n",
            "4  0.0       NaN       NaN       NaN       NaN       NaN       NaN       NaN   \n",
            "5  0.0       NaN       NaN       NaN       NaN       NaN       NaN       NaN   \n",
            "6  0.0       NaN       NaN       NaN       NaN       NaN       NaN       NaN   \n",
            "7  0.0       NaN       NaN       NaN       NaN       NaN       NaN       NaN   \n",
            "8  0.0       NaN       NaN       NaN       NaN       NaN       NaN       NaN   \n",
            "\n",
            "         8         9         10  \n",
            "0  0.766117  2.101636  0.962916  \n",
            "1 -2.609547 -3.541875  2.445883  \n",
            "2  1.200970  0.718039  1.826440  \n",
            "3  0.379368 -0.533301 -2.066925  \n",
            "4       NaN       NaN  1.885412  \n",
            "5       NaN       NaN  0.965112  \n",
            "6       NaN       NaN -1.499313  \n",
            "7       NaN       NaN -2.892346  \n",
            "8       NaN       NaN  1.847974  \n",
            "    0         1         2         3         4         5         6         7   \\\n",
            "0  4.0  0.121315 -3.261117 -0.242215 -0.329336  1.476191 -1.645264 -2.563130   \n",
            "1  9.0  0.296760 -1.548832 -1.751770  0.222169  0.147578  1.048306 -1.663161   \n",
            "2  9.0 -2.146284  2.268599  2.367729 -0.125938 -1.526887  0.718248  1.417951   \n",
            "3  1.0 -0.106657 -2.646478  0.729148  0.650023  2.523157  1.530936 -2.006753   \n",
            "4  0.0       NaN       NaN       NaN       NaN       NaN       NaN       NaN   \n",
            "5  0.0       NaN       NaN       NaN       NaN       NaN       NaN       NaN   \n",
            "6  0.0       NaN       NaN       NaN       NaN       NaN       NaN       NaN   \n",
            "7  0.0       NaN       NaN       NaN       NaN       NaN       NaN       NaN   \n",
            "8  0.0       NaN       NaN       NaN       NaN       NaN       NaN       NaN   \n",
            "\n",
            "         8         9         10                  12        13        14  \n",
            "0  0.766117  2.101636  0.962916         CONF_treino  0.001204  1.378879  \n",
            "1 -2.609547 -3.541875  2.445883  [[65, 0], [9, 27]]  0.200000  1.000033  \n",
            "2  1.200970  0.718039  1.826440          CONF_teste  0.004467  0.997936  \n",
            "3  0.379368 -0.533301 -2.066925   [[18, 3], [1, 3]]  0.038678  0.988007  \n",
            "4       NaN       NaN  1.885412     MELHOR_PRECISAO       NaN       NaN  \n",
            "5       NaN       NaN  0.965112                0.84       NaN       NaN  \n",
            "6       NaN       NaN -1.499313                 NaN       NaN       NaN  \n",
            "7       NaN       NaN -2.892346                 NaN       NaN       NaN  \n",
            "8       NaN       NaN  1.847974                 NaN       NaN       NaN  \n"
          ],
          "name": "stdout"
        }
      ]
    },
    {
      "cell_type": "code",
      "metadata": {
        "id": "ftUbpGYwceb5",
        "colab_type": "code",
        "colab": {
          "base_uri": "https://localhost:8080/",
          "height": 279
        },
        "outputId": "71986b24-27af-4c14-aad9-5d46833f28d1"
      },
      "source": [
        "print(pd.DataFrame(MATX))"
      ],
      "execution_count": 33,
      "outputs": [
        {
          "output_type": "stream",
          "text": [
            "            0         1         2         3\n",
            "0    1.081077  0.200000  0.798558  0.531855\n",
            "1    1.091500  0.300000  0.618503  0.966139\n",
            "2    1.107599  0.400000  0.627984  0.944441\n",
            "3    1.144213  0.500000  0.894793  0.571047\n",
            "4    1.079718  0.600000  0.901544  0.852554\n",
            "..        ...       ...       ...       ...\n",
            "121  0.932264  0.720000  0.981445  0.988007\n",
            "122  0.928187  0.840000  0.898388  0.103469\n",
            "123  0.939966  0.960000  0.565138  0.726098\n",
            "124  0.939669  1.000033  0.943371  0.268703\n",
            "125  0.939669  1.000033  0.579287  0.936870\n",
            "\n",
            "[126 rows x 4 columns]\n"
          ],
          "name": "stdout"
        }
      ]
    },
    {
      "cell_type": "code",
      "metadata": {
        "id": "ZX55qGJQ9Mpx",
        "colab_type": "code",
        "colab": {
          "base_uri": "https://localhost:8080/",
          "height": 409
        },
        "outputId": "b34173d9-e96b-43c5-da58-aee09238ee24"
      },
      "source": [
        "MATX=pd.DataFrame(MATX)\n",
        "strings=list(MATX)\n",
        "MAT_MAX=[]\n",
        "MAT_MIN=[]\n",
        "for i in strings:\n",
        "  max_x=MATX[i].max()\n",
        "  min_x=MATX[i].min()\n",
        "  MAT_MAX.append(max_x)\n",
        "  MAT_MIN.append(min_x)\n",
        "#print(MAT_MAX)\n",
        "#print(MAT_MIN)\n",
        "M[nc0+nc1+3]=pd.Series(MAT_MIN)\n",
        "M[nc0+nc1+4]=pd.Series(MAT_MAX)\n",
        "print(M)"
      ],
      "execution_count": 34,
      "outputs": [
        {
          "output_type": "stream",
          "text": [
            "    0         1         2         3         4         5         6         7   \\\n",
            "0  4.0  0.121315 -3.261117 -0.242215 -0.329336  1.476191 -1.645264 -2.563130   \n",
            "1  9.0  0.296760 -1.548832 -1.751770  0.222169  0.147578  1.048306 -1.663161   \n",
            "2  9.0 -2.146284  2.268599  2.367729 -0.125938 -1.526887  0.718248  1.417951   \n",
            "3  1.0 -0.106657 -2.646478  0.729148  0.650023  2.523157  1.530936 -2.006753   \n",
            "4  0.0       NaN       NaN       NaN       NaN       NaN       NaN       NaN   \n",
            "5  0.0       NaN       NaN       NaN       NaN       NaN       NaN       NaN   \n",
            "6  0.0       NaN       NaN       NaN       NaN       NaN       NaN       NaN   \n",
            "7  0.0       NaN       NaN       NaN       NaN       NaN       NaN       NaN   \n",
            "8  0.0       NaN       NaN       NaN       NaN       NaN       NaN       NaN   \n",
            "\n",
            "         8         9         10                  12        13        14  \n",
            "0  0.766117  2.101636  0.962916         CONF_treino  0.001204  1.378879  \n",
            "1 -2.609547 -3.541875  2.445883  [[65, 0], [9, 27]]  0.200000  1.000033  \n",
            "2  1.200970  0.718039  1.826440          CONF_teste  0.004467  0.997936  \n",
            "3  0.379368 -0.533301 -2.066925   [[18, 3], [1, 3]]  0.038678  0.988007  \n",
            "4       NaN       NaN  1.885412     MELHOR_PRECISAO       NaN       NaN  \n",
            "5       NaN       NaN  0.965112                0.84       NaN       NaN  \n",
            "6       NaN       NaN -1.499313                 NaN       NaN       NaN  \n",
            "7       NaN       NaN -2.892346                 NaN       NaN       NaN  \n",
            "8       NaN       NaN  1.847974                 NaN       NaN       NaN  \n"
          ],
          "name": "stdout"
        }
      ]
    },
    {
      "cell_type": "code",
      "metadata": {
        "id": "uWcsDJt5Uf_W",
        "colab_type": "code",
        "colab": {
          "base_uri": "https://localhost:8080/",
          "height": 36
        },
        "outputId": "0d4f2e55-6828-4fdd-91a4-d82819c637ae"
      },
      "source": [
        "from google.colab import drive\n",
        "drive.mount('drive')"
      ],
      "execution_count": 35,
      "outputs": [
        {
          "output_type": "stream",
          "text": [
            "Drive already mounted at drive; to attempt to forcibly remount, call drive.mount(\"drive\", force_remount=True).\n"
          ],
          "name": "stdout"
        }
      ]
    },
    {
      "cell_type": "code",
      "metadata": {
        "id": "dKdsXXOLenBM",
        "colab_type": "code",
        "colab": {}
      },
      "source": [
        ""
      ],
      "execution_count": 0,
      "outputs": []
    },
    {
      "cell_type": "code",
      "metadata": {
        "id": "FItdmJ_AWB-Y",
        "colab_type": "code",
        "colab": {}
      },
      "source": [
        "from datetime import datetime\n",
        "nowfname=datetime.now().strftime(\"%Y-%m-%d_%Hh%Mmin\")"
      ],
      "execution_count": 0,
      "outputs": []
    },
    {
      "cell_type": "code",
      "metadata": {
        "id": "ADtH-CFgUs0v",
        "colab_type": "code",
        "colab": {
          "base_uri": "https://localhost:8080/",
          "height": 36
        },
        "outputId": "3b24376b-7091-40ce-af3a-cf3b59e28c65"
      },
      "source": [
        "'''\n",
        "BUSCA.to_csv(('ANN_'+ nowfname +'.csv'))\n",
        "print(('ANN_'+ nowfname +'.csv'))\n",
        "ARQ='ANN_'+ nowfname +'.csv\n",
        "'''"
      ],
      "execution_count": 37,
      "outputs": [
        {
          "output_type": "execute_result",
          "data": {
            "text/plain": [
              "\"\\nBUSCA.to_csv(('ANN_'+ nowfname +'.csv'))\\nprint(('ANN_'+ nowfname +'.csv'))\\nARQ='ANN_'+ nowfname +'.csv\\n\""
            ]
          },
          "metadata": {
            "tags": []
          },
          "execution_count": 37
        }
      ]
    },
    {
      "cell_type": "code",
      "metadata": {
        "id": "gsGV0jjxWd1-",
        "colab_type": "code",
        "colab": {
          "base_uri": "https://localhost:8080/",
          "height": 36
        },
        "outputId": "850968f3-3d6f-49ff-9eca-9d7682a1aabe"
      },
      "source": [
        "\n",
        "M.to_csv('ANN_nova_003.csv')\n",
        "!cp ANN_nova_003.csv drive/My\\ Drive/imput_ANN/\n",
        "#!cp  ANN_nova_001.csv drive/My\\ Drive/\n",
        "''''''"
      ],
      "execution_count": 38,
      "outputs": [
        {
          "output_type": "execute_result",
          "data": {
            "text/plain": [
              "''"
            ]
          },
          "metadata": {
            "tags": []
          },
          "execution_count": 38
        }
      ]
    }
  ]
}